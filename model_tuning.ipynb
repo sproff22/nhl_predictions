{
 "cells": [
  {
   "cell_type": "code",
   "execution_count": 2,
   "id": "821a67b1-2973-4fe8-a073-ff5b7de6faa6",
   "metadata": {},
   "outputs": [],
   "source": [
    "from nhlpy import *\n",
    "import pandas as pd\n",
    "from datetime import datetime, timedelta\n",
    "import pkgutil\n",
    "from scipy.stats import norm\n",
    "import numpy as np\n",
    "from sklearn.metrics import confusion_matrix, accuracy_score, precision_score, recall_score, f1_score, ConfusionMatrixDisplay\n",
    "import matplotlib.pyplot as plt"
   ]
  },
  {
   "cell_type": "markdown",
   "id": "5cde2327-59de-4384-99df-75f02e8f346e",
   "metadata": {},
   "source": [
    "# Load Current Rankings"
   ]
  },
  {
   "cell_type": "code",
   "execution_count": 3,
   "id": "722a71ec-a8ea-4802-813e-76b087fb841c",
   "metadata": {},
   "outputs": [],
   "source": [
    "sorted_team_elo = pd.read_csv('elo_rankings.csv')"
   ]
  },
  {
   "cell_type": "code",
   "execution_count": 4,
   "id": "f7f02d01-15ca-4698-a412-1f7f3a197abc",
   "metadata": {},
   "outputs": [
    {
     "data": {
      "text/html": [
       "<div>\n",
       "<style scoped>\n",
       "    .dataframe tbody tr th:only-of-type {\n",
       "        vertical-align: middle;\n",
       "    }\n",
       "\n",
       "    .dataframe tbody tr th {\n",
       "        vertical-align: top;\n",
       "    }\n",
       "\n",
       "    .dataframe thead th {\n",
       "        text-align: right;\n",
       "    }\n",
       "</style>\n",
       "<table border=\"1\" class=\"dataframe\">\n",
       "  <thead>\n",
       "    <tr style=\"text-align: right;\">\n",
       "      <th></th>\n",
       "      <th>Team</th>\n",
       "      <th>Elo Score</th>\n",
       "    </tr>\n",
       "  </thead>\n",
       "  <tbody>\n",
       "    <tr>\n",
       "      <th>0</th>\n",
       "      <td>WPG</td>\n",
       "      <td>1568.694550</td>\n",
       "    </tr>\n",
       "    <tr>\n",
       "      <th>1</th>\n",
       "      <td>VGK</td>\n",
       "      <td>1568.438168</td>\n",
       "    </tr>\n",
       "    <tr>\n",
       "      <th>2</th>\n",
       "      <td>NYR</td>\n",
       "      <td>1557.417047</td>\n",
       "    </tr>\n",
       "    <tr>\n",
       "      <th>3</th>\n",
       "      <td>VAN</td>\n",
       "      <td>1552.582254</td>\n",
       "    </tr>\n",
       "    <tr>\n",
       "      <th>4</th>\n",
       "      <td>DAL</td>\n",
       "      <td>1545.345970</td>\n",
       "    </tr>\n",
       "    <tr>\n",
       "      <th>5</th>\n",
       "      <td>FLA</td>\n",
       "      <td>1541.385779</td>\n",
       "    </tr>\n",
       "    <tr>\n",
       "      <th>6</th>\n",
       "      <td>CAR</td>\n",
       "      <td>1539.113540</td>\n",
       "    </tr>\n",
       "    <tr>\n",
       "      <th>7</th>\n",
       "      <td>LAK</td>\n",
       "      <td>1535.533428</td>\n",
       "    </tr>\n",
       "    <tr>\n",
       "      <th>8</th>\n",
       "      <td>BOS</td>\n",
       "      <td>1532.368772</td>\n",
       "    </tr>\n",
       "    <tr>\n",
       "      <th>9</th>\n",
       "      <td>COL</td>\n",
       "      <td>1523.170422</td>\n",
       "    </tr>\n",
       "    <tr>\n",
       "      <th>10</th>\n",
       "      <td>TBL</td>\n",
       "      <td>1520.869108</td>\n",
       "    </tr>\n",
       "    <tr>\n",
       "      <th>11</th>\n",
       "      <td>WSH</td>\n",
       "      <td>1520.571904</td>\n",
       "    </tr>\n",
       "    <tr>\n",
       "      <th>12</th>\n",
       "      <td>TOR</td>\n",
       "      <td>1510.078858</td>\n",
       "    </tr>\n",
       "    <tr>\n",
       "      <th>13</th>\n",
       "      <td>NJD</td>\n",
       "      <td>1509.846091</td>\n",
       "    </tr>\n",
       "    <tr>\n",
       "      <th>14</th>\n",
       "      <td>DET</td>\n",
       "      <td>1504.758768</td>\n",
       "    </tr>\n",
       "    <tr>\n",
       "      <th>15</th>\n",
       "      <td>MIN</td>\n",
       "      <td>1502.348401</td>\n",
       "    </tr>\n",
       "    <tr>\n",
       "      <th>16</th>\n",
       "      <td>BUF</td>\n",
       "      <td>1501.671260</td>\n",
       "    </tr>\n",
       "    <tr>\n",
       "      <th>17</th>\n",
       "      <td>SEA</td>\n",
       "      <td>1478.395814</td>\n",
       "    </tr>\n",
       "    <tr>\n",
       "      <th>18</th>\n",
       "      <td>OTT</td>\n",
       "      <td>1477.856608</td>\n",
       "    </tr>\n",
       "    <tr>\n",
       "      <th>19</th>\n",
       "      <td>NYI</td>\n",
       "      <td>1476.041549</td>\n",
       "    </tr>\n",
       "    <tr>\n",
       "      <th>20</th>\n",
       "      <td>ANA</td>\n",
       "      <td>1474.762860</td>\n",
       "    </tr>\n",
       "    <tr>\n",
       "      <th>21</th>\n",
       "      <td>UTA</td>\n",
       "      <td>1473.319879</td>\n",
       "    </tr>\n",
       "    <tr>\n",
       "      <th>22</th>\n",
       "      <td>STL</td>\n",
       "      <td>1472.700452</td>\n",
       "    </tr>\n",
       "    <tr>\n",
       "      <th>23</th>\n",
       "      <td>CGY</td>\n",
       "      <td>1469.909702</td>\n",
       "    </tr>\n",
       "    <tr>\n",
       "      <th>24</th>\n",
       "      <td>PHI</td>\n",
       "      <td>1462.680179</td>\n",
       "    </tr>\n",
       "    <tr>\n",
       "      <th>25</th>\n",
       "      <td>CBJ</td>\n",
       "      <td>1461.144311</td>\n",
       "    </tr>\n",
       "    <tr>\n",
       "      <th>26</th>\n",
       "      <td>MTL</td>\n",
       "      <td>1459.553305</td>\n",
       "    </tr>\n",
       "    <tr>\n",
       "      <th>27</th>\n",
       "      <td>CHI</td>\n",
       "      <td>1448.574860</td>\n",
       "    </tr>\n",
       "    <tr>\n",
       "      <th>28</th>\n",
       "      <td>PIT</td>\n",
       "      <td>1445.651784</td>\n",
       "    </tr>\n",
       "    <tr>\n",
       "      <th>29</th>\n",
       "      <td>NSH</td>\n",
       "      <td>1442.428246</td>\n",
       "    </tr>\n",
       "    <tr>\n",
       "      <th>30</th>\n",
       "      <td>EDM</td>\n",
       "      <td>1431.730273</td>\n",
       "    </tr>\n",
       "    <tr>\n",
       "      <th>31</th>\n",
       "      <td>SJS</td>\n",
       "      <td>1404.458409</td>\n",
       "    </tr>\n",
       "  </tbody>\n",
       "</table>\n",
       "</div>"
      ],
      "text/plain": [
       "   Team    Elo Score\n",
       "0   WPG  1568.694550\n",
       "1   VGK  1568.438168\n",
       "2   NYR  1557.417047\n",
       "3   VAN  1552.582254\n",
       "4   DAL  1545.345970\n",
       "5   FLA  1541.385779\n",
       "6   CAR  1539.113540\n",
       "7   LAK  1535.533428\n",
       "8   BOS  1532.368772\n",
       "9   COL  1523.170422\n",
       "10  TBL  1520.869108\n",
       "11  WSH  1520.571904\n",
       "12  TOR  1510.078858\n",
       "13  NJD  1509.846091\n",
       "14  DET  1504.758768\n",
       "15  MIN  1502.348401\n",
       "16  BUF  1501.671260\n",
       "17  SEA  1478.395814\n",
       "18  OTT  1477.856608\n",
       "19  NYI  1476.041549\n",
       "20  ANA  1474.762860\n",
       "21  UTA  1473.319879\n",
       "22  STL  1472.700452\n",
       "23  CGY  1469.909702\n",
       "24  PHI  1462.680179\n",
       "25  CBJ  1461.144311\n",
       "26  MTL  1459.553305\n",
       "27  CHI  1448.574860\n",
       "28  PIT  1445.651784\n",
       "29  NSH  1442.428246\n",
       "30  EDM  1431.730273\n",
       "31  SJS  1404.458409"
      ]
     },
     "execution_count": 4,
     "metadata": {},
     "output_type": "execute_result"
    }
   ],
   "source": [
    "sorted_team_elo"
   ]
  },
  {
   "cell_type": "markdown",
   "id": "d04bcaf5-a2c4-432b-be0f-67cbb9e95596",
   "metadata": {},
   "source": [
    "# Current Distribution of Elo Scores"
   ]
  },
  {
   "cell_type": "code",
   "execution_count": 5,
   "id": "705e18b3-8e00-48d2-9e79-c0acfa7ebd04",
   "metadata": {},
   "outputs": [
    {
     "data": {
      "image/png": "[encoded data removed]",
      "text/plain": [
       "<Figure size 640x480 with 1 Axes>"
      ]
     },
     "metadata": {},
     "output_type": "display_data"
    }
   ],
   "source": [
    "plt.hist(sorted_team_elo['Elo Score'], bins=10, edgecolor='black')\n",
    "plt.xlabel('Elo Score')\n",
    "plt.ylabel('Frequency')\n",
    "plt.title('Distribution of Team Elo Scores')\n",
    "plt.show()"
   ]
  },
  {
   "cell_type": "markdown",
   "id": "3e1ed7e2-d00b-455e-b822-01e95dbad8e3",
   "metadata": {},
   "source": [
    "# Load current model and create holdout (test) sample"
   ]
  },
  {
   "cell_type": "code",
   "execution_count": 9,
   "id": "3637f51d-6556-497b-ad78-0d71f9c7e073",
   "metadata": {},
   "outputs": [],
   "source": [
    "validation_elo_games_df = pd.read_csv('season_elo_results.csv')\n",
    "# Calculate the index to split 60% and 40% of the data\n",
    "split_index = int(len(validation_elo_games_df) * 0.3)\n",
    "\n",
    "# Select the last 40% of the season as test data\n",
    "test_elo_games_df = validation_elo_games_df.iloc[split_index:].reset_index(drop=True)"
   ]
  },
  {
   "cell_type": "markdown",
   "id": "41b417ae-5341-4509-ac72-6056d77f0cd5",
   "metadata": {},
   "source": [
    "## Probability distribution (home teams)"
   ]
  },
  {
   "cell_type": "code",
   "execution_count": 10,
   "id": "eee57a9c-eab2-4999-b3e0-33b7352f3ad7",
   "metadata": {},
   "outputs": [
    {
     "data": {
      "text/plain": [
       "<Axes: ylabel='Frequency'>"
      ]
     },
     "execution_count": 10,
     "metadata": {},
     "output_type": "execute_result"
    },
    {
     "data": {
      "image/png": "[encoded data removed]",
      "text/plain": [
       "<Figure size 640x480 with 1 Axes>"
      ]
     },
     "metadata": {},
     "output_type": "display_data"
    }
   ],
   "source": [
    "test_elo_games_df['home_team_prob'].plot.hist()"
   ]
  },
  {
   "cell_type": "markdown",
   "id": "03c00833-a015-4f9e-b12b-4a28346f38cd",
   "metadata": {},
   "source": [
    "## Validation & Holdout data: probability means and home team win percentages"
   ]
  },
  {
   "cell_type": "code",
   "execution_count": 11,
   "id": "65adf218-6bca-4e79-90e9-035935bdd5cc",
   "metadata": {},
   "outputs": [
    {
     "data": {
      "text/plain": [
       "0.5182272766878205"
      ]
     },
     "execution_count": 11,
     "metadata": {},
     "output_type": "execute_result"
    }
   ],
   "source": [
    "validation_elo_games_df['home_team_prob'].mean()"
   ]
  },
  {
   "cell_type": "code",
   "execution_count": 12,
   "id": "3b2071a4-2f84-4575-a015-3b0cffbc6030",
   "metadata": {},
   "outputs": [
    {
     "data": {
      "text/plain": [
       "0.5464684014869888"
      ]
     },
     "execution_count": 12,
     "metadata": {},
     "output_type": "execute_result"
    }
   ],
   "source": [
    "validation_elo_games_df['home_team_win'].mean()"
   ]
  },
  {
   "cell_type": "code",
   "execution_count": 13,
   "id": "9d11072d-57f6-4789-9276-dd4ed5681984",
   "metadata": {},
   "outputs": [
    {
     "data": {
      "text/plain": [
       "0.5207952559221578"
      ]
     },
     "execution_count": 13,
     "metadata": {},
     "output_type": "execute_result"
    }
   ],
   "source": [
    "test_elo_games_df['home_team_prob'].mean()"
   ]
  },
  {
   "cell_type": "code",
   "execution_count": 14,
   "id": "093a552e-74c4-4b20-afa2-03b122f863d1",
   "metadata": {},
   "outputs": [
    {
     "data": {
      "text/plain": [
       "0.5502645502645502"
      ]
     },
     "execution_count": 14,
     "metadata": {},
     "output_type": "execute_result"
    }
   ],
   "source": [
    "test_elo_games_df['home_team_win'].mean()"
   ]
  },
  {
   "cell_type": "markdown",
   "id": "46871b60-ff5e-45b1-a548-74ae66e56de4",
   "metadata": {},
   "source": [
    "## Define predicted wins (0.5 threshold)"
   ]
  },
  {
   "cell_type": "code",
   "execution_count": 15,
   "id": "0c937679-3f9b-431a-8dc4-b4483603775e",
   "metadata": {},
   "outputs": [],
   "source": [
    "# Define a threshold to classify home team win probabilities\n",
    "threshold = 0.5\n",
    "validation_elo_games_df['home_team_pred_win'] = np.where(validation_elo_games_df['home_team_prob'] >= threshold, 1, 0)\n",
    "test_elo_games_df['home_team_pred_win'] = np.where(test_elo_games_df['home_team_prob'] >= threshold, 1, 0)"
   ]
  },
  {
   "cell_type": "code",
   "execution_count": 16,
   "id": "1cba9421-7686-433f-9984-bb13985e9fab",
   "metadata": {},
   "outputs": [
    {
     "data": {
      "text/plain": [
       "0.5836431226765799"
      ]
     },
     "execution_count": 16,
     "metadata": {},
     "output_type": "execute_result"
    }
   ],
   "source": [
    "validation_elo_games_df['home_team_pred_win'].mean()"
   ]
  },
  {
   "cell_type": "code",
   "execution_count": 17,
   "id": "c0c83697-1cfe-48be-a462-d5629289b6fd",
   "metadata": {},
   "outputs": [
    {
     "data": {
      "text/plain": [
       "0.5873015873015873"
      ]
     },
     "execution_count": 17,
     "metadata": {},
     "output_type": "execute_result"
    }
   ],
   "source": [
    "test_elo_games_df['home_team_pred_win'].mean()"
   ]
  },
  {
   "cell_type": "markdown",
   "id": "eff360fc-ef64-4a1b-9dcf-2b32b17a6662",
   "metadata": {},
   "source": [
    "## Confusion matrix, accuracy, precision, recall, F1"
   ]
  },
  {
   "cell_type": "code",
   "execution_count": 18,
   "id": "a2e5efe8-444e-4247-ac73-ba226c23c351",
   "metadata": {},
   "outputs": [
    {
     "data": {
      "image/png": "[encoded data removed]",
      "text/plain": [
       "<Figure size 640x480 with 2 Axes>"
      ]
     },
     "metadata": {},
     "output_type": "display_data"
    },
    {
     "name": "stdout",
     "output_type": "stream",
     "text": [
      "Accuracy: 0.56\n",
      "Precision: 0.59\n",
      "Recall: 0.63\n",
      "F1 Score: 0.61\n"
     ]
    }
   ],
   "source": [
    "\n",
    "# Calculate the confusion matrix\n",
    "cm = confusion_matrix(test_elo_games_df['home_team_win'], test_elo_games_df['home_team_pred_win'])\n",
    "\n",
    "# Display the confusion matrix\n",
    "disp = ConfusionMatrixDisplay(confusion_matrix=cm, display_labels=[\"Loss\", \"Win\"])\n",
    "disp.plot(cmap='Blues')\n",
    "plt.title(\"Confusion Matrix: Home Team Win Prediction vs Actual\")\n",
    "plt.show()\n",
    "\n",
    "# Calculate accuracy, precision, recall, and F1 score\n",
    "accuracy = accuracy_score(test_elo_games_df['home_team_win'], test_elo_games_df['home_team_pred_win'])\n",
    "precision = precision_score(test_elo_games_df['home_team_win'], test_elo_games_df['home_team_pred_win'])\n",
    "recall = recall_score(test_elo_games_df['home_team_win'], test_elo_games_df['home_team_pred_win'])\n",
    "f1 = f1_score(test_elo_games_df['home_team_win'], test_elo_games_df['home_team_pred_win'])\n",
    "\n",
    "# Display metrics\n",
    "print(f\"Accuracy: {accuracy:.2f}\")\n",
    "print(f\"Precision: {precision:.2f}\")\n",
    "print(f\"Recall: {recall:.2f}\")\n",
    "print(f\"F1 Score: {f1:.2f}\")\n",
    "\n"
   ]
  },
  {
   "cell_type": "markdown",
   "id": "4bb18a2b-0c09-4621-bdc7-40deb6a60989",
   "metadata": {},
   "source": [
    "## Season long cummulative accuracy"
   ]
  },
  {
   "cell_type": "code",
   "execution_count": 19,
   "id": "743a03fc-8193-4011-ae0f-56cea7f030f8",
   "metadata": {},
   "outputs": [
    {
     "data": {
      "image/png": "[encoded data removed]",
      "text/plain": [
       "<Figure size 1200x600 with 1 Axes>"
      ]
     },
     "metadata": {},
     "output_type": "display_data"
    }
   ],
   "source": [
    "import pandas as pd\n",
    "import matplotlib.pyplot as plt\n",
    "import matplotlib.dates as mdates\n",
    "\n",
    "# Ensure date column is in datetime format\n",
    "validation_elo_games_df['date'] = pd.to_datetime(validation_elo_games_df['date'])\n",
    "\n",
    "# Step 1: Calculate if each prediction was correct (1 if correct, 0 if not)\n",
    "validation_elo_games_df['correct_prediction'] = (validation_elo_games_df['home_team_pred_win'] == validation_elo_games_df['home_team_win']).astype(int)\n",
    "\n",
    "# Step 2: Calculate cumulative sum of correct predictions and cumulative count of games\n",
    "validation_elo_games_df['cumulative_correct'] = validation_elo_games_df['correct_prediction'].cumsum()\n",
    "validation_elo_games_df['game_count'] = validation_elo_games_df.index + 1  # Game count up to each date\n",
    "\n",
    "# Step 3: Calculate cumulative accuracy as the ratio of cumulative correct predictions to game count\n",
    "validation_elo_games_df['cumulative_accuracy'] = validation_elo_games_df['cumulative_correct'] / validation_elo_games_df['game_count']\n",
    "\n",
    "# Plot cumulative accuracy over time\n",
    "plt.figure(figsize=(12, 6))\n",
    "plt.plot(validation_elo_games_df['date'], validation_elo_games_df['cumulative_accuracy'], label='Cumulative Accuracy')\n",
    "\n",
    "# Format the x-axis to show months from October to April\n",
    "plt.gca().xaxis.set_major_locator(mdates.MonthLocator())  # Set major ticks to each month\n",
    "plt.gca().xaxis.set_major_formatter(mdates.DateFormatter('%b %Y'))  # Show month and year (e.g., Oct 2023)\n",
    "\n",
    "plt.xlabel('Date')\n",
    "plt.ylabel('Cumulative Accuracy')\n",
    "plt.title('Cumulative Prediction Accuracy Over Time')\n",
    "plt.xticks(rotation=45)\n",
    "plt.grid(True)\n",
    "plt.legend()\n",
    "plt.tight_layout()\n",
    "plt.show()\n"
   ]
  },
  {
   "cell_type": "markdown",
   "id": "9710df42-a16e-4d68-bd8a-93326a43e415",
   "metadata": {},
   "source": [
    "## Calibration Plot"
   ]
  },
  {
   "cell_type": "code",
   "execution_count": 20,
   "id": "94ac5b08-1c7b-4b5c-9a1d-c0597da70e9f",
   "metadata": {},
   "outputs": [
    {
     "name": "stderr",
     "output_type": "stream",
     "text": [
      "C:\\Users\\roffm\\AppData\\Local\\Temp\\ipykernel_60080\\3269444374.py:6: FutureWarning: The default of observed=False is deprecated and will be changed to True in a future version of pandas. Pass observed=False to retain current behavior or observed=True to adopt the future default and silence this warning.\n",
      "  calibration_data = test_elo_games_df.groupby('prob_bin').agg(\n"
     ]
    },
    {
     "data": {
      "image/png": "[encoded data removed]",
      "text/plain": [
       "<Figure size 800x600 with 1 Axes>"
      ]
     },
     "metadata": {},
     "output_type": "display_data"
    }
   ],
   "source": [
    "# Define the number of bins and bin edges for home_team_prob\n",
    "num_bins = 10\n",
    "test_elo_games_df['prob_bin'] = pd.cut(test_elo_games_df['home_team_prob'], bins=np.linspace(0, 1, num_bins + 1))\n",
    "\n",
    "# Group by bins and calculate average probability and actual home team win rate in each bin\n",
    "calibration_data = test_elo_games_df.groupby('prob_bin').agg(\n",
    "    avg_home_team_prob=('home_team_prob', 'mean'),\n",
    "    nrows = ('home_team_win', 'count'),\n",
    "    actual_home_win_rate=('home_team_win', 'mean')\n",
    ").dropna()\n",
    "\n",
    "# Plotting\n",
    "plt.figure(figsize=(8, 6))\n",
    "plt.plot(calibration_data['avg_home_team_prob'], calibration_data['actual_home_win_rate'], label=\"Actual vs Predicted\", marker='o')\n",
    "plt.plot([0, 1], [0, 1], linestyle='--', color='gray', label=\"Ideal Calibration (y=x)\")\n",
    "\n",
    "# Adding labels and legend\n",
    "plt.xlabel(\"Predicted Home Team Win Probability\")\n",
    "plt.ylabel(\"Actual Home Team Win Rate\")\n",
    "plt.title(\"Calibration Plot of Home Team Win Probability\")\n",
    "plt.legend()\n",
    "plt.grid(True)\n",
    "\n",
    "plt.show()"
   ]
  },
  {
   "cell_type": "code",
   "execution_count": 21,
   "id": "e047e950-adbf-40c4-8159-2a43d76a6787",
   "metadata": {},
   "outputs": [
    {
     "data": {
      "text/html": [
       "<div>\n",
       "<style scoped>\n",
       "    .dataframe tbody tr th:only-of-type {\n",
       "        vertical-align: middle;\n",
       "    }\n",
       "\n",
       "    .dataframe tbody tr th {\n",
       "        vertical-align: top;\n",
       "    }\n",
       "\n",
       "    .dataframe thead th {\n",
       "        text-align: right;\n",
       "    }\n",
       "</style>\n",
       "<table border=\"1\" class=\"dataframe\">\n",
       "  <thead>\n",
       "    <tr style=\"text-align: right;\">\n",
       "      <th></th>\n",
       "      <th>avg_home_team_prob</th>\n",
       "      <th>nrows</th>\n",
       "      <th>actual_home_win_rate</th>\n",
       "    </tr>\n",
       "    <tr>\n",
       "      <th>prob_bin</th>\n",
       "      <th></th>\n",
       "      <th></th>\n",
       "      <th></th>\n",
       "    </tr>\n",
       "  </thead>\n",
       "  <tbody>\n",
       "    <tr>\n",
       "      <th>(0.3, 0.4]</th>\n",
       "      <td>0.368246</td>\n",
       "      <td>10</td>\n",
       "      <td>0.300000</td>\n",
       "    </tr>\n",
       "    <tr>\n",
       "      <th>(0.4, 0.5]</th>\n",
       "      <td>0.455405</td>\n",
       "      <td>68</td>\n",
       "      <td>0.514706</td>\n",
       "    </tr>\n",
       "    <tr>\n",
       "      <th>(0.5, 0.6]</th>\n",
       "      <td>0.545516</td>\n",
       "      <td>74</td>\n",
       "      <td>0.540541</td>\n",
       "    </tr>\n",
       "    <tr>\n",
       "      <th>(0.6, 0.7]</th>\n",
       "      <td>0.627894</td>\n",
       "      <td>35</td>\n",
       "      <td>0.685714</td>\n",
       "    </tr>\n",
       "    <tr>\n",
       "      <th>(0.7, 0.8]</th>\n",
       "      <td>0.717911</td>\n",
       "      <td>2</td>\n",
       "      <td>1.000000</td>\n",
       "    </tr>\n",
       "  </tbody>\n",
       "</table>\n",
       "</div>"
      ],
      "text/plain": [
       "            avg_home_team_prob  nrows  actual_home_win_rate\n",
       "prob_bin                                                   \n",
       "(0.3, 0.4]            0.368246     10              0.300000\n",
       "(0.4, 0.5]            0.455405     68              0.514706\n",
       "(0.5, 0.6]            0.545516     74              0.540541\n",
       "(0.6, 0.7]            0.627894     35              0.685714\n",
       "(0.7, 0.8]            0.717911      2              1.000000"
      ]
     },
     "execution_count": 21,
     "metadata": {},
     "output_type": "execute_result"
    }
   ],
   "source": [
    "calibration_data"
   ]
  },
  {
   "cell_type": "markdown",
   "id": "9588e11b-0ec4-4d4f-a698-9670ce0353ef",
   "metadata": {},
   "source": [
    "# Grid Search"
   ]
  },
  {
   "cell_type": "code",
   "execution_count": null,
   "id": "f50a267e-cd51-4847-96cd-0736aecbf905",
   "metadata": {},
   "outputs": [],
   "source": [
    "import numpy as np\n",
    "from sklearn.model_selection import ParameterGrid\n",
    "from sklearn.metrics import accuracy_score\n",
    "import pandas as pd\n",
    "\n",
    "client = NHLClient()\n",
    "\n",
    "season = '20222023'\n",
    "standings = client.standings\n",
    "\n",
    "standings_data = standings.get_standings(season = season)\n",
    "\n",
    "initial_elo_df = pd.DataFrame({\n",
    "    'team': [team['teamAbbrev']['default'] for team in standings_data['standings']],\n",
    "    '2223_ranking': [team['leagueSequence'] for team in standings_data['standings']]\n",
    "})\n",
    "\n",
    "# Generate a normally distributed set of ELO ratings aligned with rankings\n",
    "np.random.seed(1)\n",
    "mean_elo = 1500\n",
    "std_dev_elo = 30\n",
    "n_teams = 32\n",
    "\n",
    "# Generate ELO ratings from a normal distribution, then sort in descending order\n",
    "elos = norm.rvs(loc=mean_elo, scale=std_dev_elo, size=n_teams)\n",
    "elos.sort()  # Sort in ascending order for distribution from low rank to high rank\n",
    "\n",
    "# Assign ELOs in descending order of ranking\n",
    "initial_elo_df['initial_elo'] = elos[::-1]\n",
    "\n",
    "#initial_elo_df['team'] = initial_elo_df['team'].replace('ARI', 'UTA')\n",
    "\n",
    "# Define the season range (customize start and end dates based on the actual season)\n",
    "season_start = datetime(2023, 10, 1)  # Example start date\n",
    "season_end = datetime(2024, 4, 30) #- timedelta(years =1, days=1)   # Example end date\n",
    "\n",
    "# Initialize an empty list to store game data for each day\n",
    "season_games = []\n",
    "\n",
    "# Iterate through each date in the season range\n",
    "current_date = season_start\n",
    "while current_date <= season_end:\n",
    "    try:\n",
    "        # Get schedule for the current date\n",
    "        club_stats_season = client.schedule.get_schedule(date=current_date.strftime('%Y-%m-%d'))\n",
    "        \n",
    "        # Extract games data from the dictionary\n",
    "        games_data = club_stats_season.get('games', [])\n",
    "        \n",
    "        # Only process dates that have games\n",
    "        if games_data:\n",
    "            # Parse each game's relevant information and add it to the season_games list\n",
    "            for game in games_data:\n",
    "                game_info = {\n",
    "                    'date': club_stats_season['date'],  # Game date\n",
    "                    'away_team': game['awayTeam']['abbrev'],  # Away team name\n",
    "                    'away_score': game['awayTeam'].get('score', None),       # Away team score (None if missing)\n",
    "                    'home_team': game['homeTeam']['abbrev'],  # Home team name\n",
    "                    'home_score': game['homeTeam'].get('score', None),       # Home team score (None if missing)\n",
    "                    'neutral_site': game.get('neutralSite', False),          # Neutral site indicator\n",
    "                    'is_ot_so': game.get('periodDescriptor', {}).get('periodType') in ['OT', 'SO']  # OT/SO indicator\n",
    "                }\n",
    "                season_games.append(game_info)\n",
    "    \n",
    "    except KeyError as e:\n",
    "        print(f\"Skipping date {current_date.strftime('%Y-%m-%d')} due to missing data: {e}\")\n",
    "    except Exception as e:\n",
    "        print(f\"An error occurred on {current_date.strftime('%Y-%m-%d')}: {e}\")\n",
    "    \n",
    "    # Move to the next date\n",
    "    current_date += timedelta(days=1)\n",
    "\n",
    "# Convert the season_games list to a DataFrame\n",
    "games_df = pd.DataFrame(season_games)\n",
    "\n",
    "team_elo = initial_elo_df.set_index('team')['initial_elo'].to_dict()\n",
    "\n",
    "# Sort games_df by date to ensure chronological processing\n",
    "elo_games_df = games_df.sort_values(by='date').reset_index(drop=True)\n",
    "\n",
    "# Split the dataset into training and validation sets (first 50% for training, last 50% for validation)\n",
    "\n",
    "np.random.seed(42)\n",
    "\n",
    "# Define the range of values to test for each parameter\n",
    "param_grid = {\n",
    "    'K': [4, 6, 8, 10],\n",
    "    'home_adv': [5, 10, 15, 25, 35, 50],\n",
    "    'spread_denom': [300, 400, 500]\n",
    "}\n",
    "\n",
    "# Dictionary to store the best parameters and highest accuracy\n",
    "best_params = None\n",
    "best_accuracy = 0\n",
    "\n",
    "# Iterate over all combinations of parameter values\n",
    "for params in ParameterGrid(param_grid):\n",
    "    # Copy the team_elo dictionary to initialize Elo ratings\n",
    "    team_elo = initial_elo_df.set_index('team')['initial_elo'].to_dict()\n",
    "\n",
    "    # Set parameters for this iteration\n",
    "    K = params['K']\n",
    "    home_adv = params['home_adv']\n",
    "    spread_denom = params['spread_denom']\n",
    "    \n",
    "    # Process each game in the training set to calculate resulting Elo scores\n",
    "    for idx, row in train_df.iterrows():\n",
    "        away_team = row['away_team']\n",
    "        home_team = row['home_team']\n",
    "        \n",
    "        away_starting_elo = team_elo.get(away_team, 1500)\n",
    "        home_starting_elo = team_elo.get(home_team, 1500)\n",
    "        \n",
    "        elo_diff = home_starting_elo - away_starting_elo\n",
    "        home_team_prob = 1 / (10 ** (-1 * (elo_diff + home_adv) / spread_denom) + 1)\n",
    "        away_team_prob = 1 - home_team_prob\n",
    "        \n",
    "        if row['home_score'] > row['away_score']:\n",
    "            home_win = 1\n",
    "            away_win = 0\n",
    "            team_win_prob = home_team_prob\n",
    "        else:\n",
    "            home_win = 0\n",
    "            away_win = 1\n",
    "            team_win_prob = away_team_prob\n",
    "        \n",
    "        margin_of_victory = abs(row['home_score'] - row['away_score'])\n",
    "        MV_mult = 0.6686 * np.log(margin_of_victory) + 0.8048 if margin_of_victory > 1 else 1\n",
    "        PreFav_mult_home = home_win - home_team_prob\n",
    "        PreFav_mult_away = away_win - away_team_prob\n",
    "        winner_elo_diff = abs(elo_diff)\n",
    "        autocorrelation_adjustment = 2.05 / (winner_elo_diff * 0.001 + 2.05)\n",
    "\n",
    "        train_df.at[idx, 'home_resulting_elo'] = (\n",
    "            home_starting_elo + K * MV_mult * PreFav_mult_home * autocorrelation_adjustment\n",
    "        )\n",
    "        train_df.at[idx, 'away_resulting_elo'] = (\n",
    "            away_starting_elo + K * MV_mult * PreFav_mult_away * autocorrelation_adjustment\n",
    "        )\n",
    "\n",
    "        team_elo[away_team] = train_df.at[idx, 'away_resulting_elo']\n",
    "        team_elo[home_team] = train_df.at[idx, 'home_resulting_elo']\n",
    "    elo_games_df['home_team_win'] = np.where(elo_games_df['home_score'] > elo_games_df['away_score'], 1, 0)\n",
    "    mid_index = len(elo_games_df) // 2\n",
    "    train_df = elo_games_df.iloc[:mid_index].copy()\n",
    "    validation_df = elo_games_df.iloc[mid_index:].copy()\n",
    "    # Now apply the model with these parameters to the validation set\n",
    "    validation_df['predicted_home_win'] = validation_df.apply(\n",
    "        lambda row: 1 / (10 ** (-1 * (team_elo.get(row['home_team'], 1500) - team_elo.get(row['away_team'], 1500) + home_adv) / spread_denom) + 1) >= 0.5, axis=1\n",
    "    ).astype(int)\n",
    "\n",
    "    # Calculate the accuracy on the validation set\n",
    "    accuracy = accuracy_score(validation_df['home_team_win'], validation_df['predicted_home_win'])\n",
    "    \n",
    "    # Check if this is the best accuracy found so far\n",
    "    if accuracy > best_accuracy:\n",
    "        best_accuracy = accuracy\n",
    "        best_params = params\n",
    "\n",
    "# Output the best parameters and their accuracy\n",
    "print(f\"Best Parameters: {best_params}\")\n",
    "print(f\"Best Validation Accuracy: {best_accuracy}\")\n"
   ]
  },
  {
   "cell_type": "code",
   "execution_count": null,
   "id": "01177380-d25e-4f78-bbf6-a31c88bf2f02",
   "metadata": {},
   "outputs": [],
   "source": []
  }
 ],
 "metadata": {
  "kernelspec": {
   "display_name": "Python 3 (ipykernel)",
   "language": "python",
   "name": "python3"
  },
  "language_info": {
   "codemirror_mode": {
    "name": "ipython",
    "version": 3
   },
   "file_extension": ".py",
   "mimetype": "text/x-python",
   "name": "python",
   "nbconvert_exporter": "python",
   "pygments_lexer": "ipython3",
   "version": "3.12.4"
  }
 },
 "nbformat": 4,
 "nbformat_minor": 5
}
